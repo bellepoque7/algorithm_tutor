{
 "cells": [
  {
   "cell_type": "code",
   "execution_count": 3,
   "metadata": {},
   "outputs": [
    {
     "name": "stdout",
     "output_type": "stream",
     "text": [
      "6\n"
     ]
    }
   ],
   "source": [
    "bit = 4 # 100\n",
    "print(bit | 1<<1 )"
   ]
  },
  {
   "cell_type": "code",
   "execution_count": 18,
   "metadata": {},
   "outputs": [
    {
     "name": "stdout",
     "output_type": "stream",
     "text": [
      "아무것도 줍지않음 [0, 0, 0, 0, 0, 0, 0, 0]\n",
      "nbit: 1 , 1번 물건 주음 [0, 1, 0, 0, 0, 0, 0, 0]\n",
      "nbit: 3  ,1,2번 물건 주음 [0, 1, 0, 1, 0, 0, 0, 0]\n",
      "nbit: 7  ,1,2,3번 물건 주음 [0, 1, 0, 1, 0, 0, 0, 1]\n",
      "물건다주음\n"
     ]
    }
   ],
   "source": [
    "# 물건 3개를 줍는다고 가정\n",
    "'''\n",
    "경우의 수 8가지 2진법 (10진법): 000(0),001(1),010(2),011(3),100(4),101(5),110(6),111(7)\n",
    "'''\n",
    "visited = [0 for _ in range(2**3)]\n",
    "bit = 0\n",
    "print('아무것도 줍지않음',visited)\n",
    "# 1번 물건(index = 0)을 줍는다.\n",
    "nbit_1 = bit | 1<<0\n",
    "visited[nbit_1] = 1\n",
    "print('nbit:',nbit_1,', 1번 물건 주음',visited)\n",
    "# 2번 물건(index = 1)을 줍는다.\n",
    "nbit_2 = nbit_1 | 1<<1\n",
    "visited[nbit_2] = 1\n",
    "print('nbit:',nbit_2,' , 1,2번 물건 주음',visited)\n",
    "# 3번 물건(index = 2)을 줍는다.\n",
    "nbit_3 = nbit_2 | 1<<2\n",
    "visited[nbit_3] = 1\n",
    "print('nbit:',nbit_3,' , 1,2,3번 물건 주음',visited)\n",
    "\n",
    "# 종료조건\n",
    "if nbit_3+1 == 1 << 3:\n",
    "    print('물건다주음')"
   ]
  },
  {
   "cell_type": "code",
   "execution_count": null,
   "metadata": {},
   "outputs": [],
   "source": []
  }
 ],
 "metadata": {
  "kernelspec": {
   "display_name": "Python 3",
   "language": "python",
   "name": "python3"
  },
  "language_info": {
   "codemirror_mode": {
    "name": "ipython",
    "version": 3
   },
   "file_extension": ".py",
   "mimetype": "text/x-python",
   "name": "python",
   "nbconvert_exporter": "python",
   "pygments_lexer": "ipython3",
   "version": "3.10.9"
  },
  "orig_nbformat": 4,
  "vscode": {
   "interpreter": {
    "hash": "aee8b7b246df8f9039afb4144a1f6fd8d2ca17a180786b69acc140d282b71a49"
   }
  }
 },
 "nbformat": 4,
 "nbformat_minor": 2
}
