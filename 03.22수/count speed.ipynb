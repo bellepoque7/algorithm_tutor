{
 "cells": [
  {
   "cell_type": "code",
   "execution_count": 27,
   "metadata": {},
   "outputs": [
    {
     "name": "stderr",
     "output_type": "stream",
     "text": [
      "/var/folders/g2/tl_rhph509521kwf1sq_hlbc0000gn/T/ipykernel_54923/3809584174.py:3: DeprecationWarning: This function is deprecated. Please call randint(1, 1 + 1) instead\n",
      "  my_np = np.random.random_integers(1, size = 1000000)\n"
     ]
    }
   ],
   "source": [
    "import numpy as np \n",
    "\n",
    "my_np = np.random.random_integers(1, size = 1000000)\n",
    "my_list = my_np.tolist()\n",
    "# print(my_list)"
   ]
  },
  {
   "cell_type": "code",
   "execution_count": 29,
   "metadata": {},
   "outputs": [
    {
     "name": "stdout",
     "output_type": "stream",
     "text": [
      "my_list with count 1000000 0.005\n",
      "my_list with for 1000000 0.265\n"
     ]
    }
   ],
   "source": [
    "import time\n",
    "start1 = time.time()\n",
    "my_list_get_count = my_list.count(1)\n",
    "end1 = time.time()\n",
    "\n",
    "print('my_list with count', my_list_get_count, round(end1 - start1,3))\n",
    "\n",
    "my_list_with_loop = 0 \n",
    "start2 = time.time()\n",
    "for i in range(len(my_list)):\n",
    "    if my_list[i] == 1:\n",
    "        my_list_with_loop += 1\n",
    "end2 = time.time()\n",
    "print('my_list with for', my_list_with_loop, round(end2 - start2,3))\n"
   ]
  },
  {
   "cell_type": "code",
   "execution_count": null,
   "metadata": {},
   "outputs": [],
   "source": []
  }
 ],
 "metadata": {
  "kernelspec": {
   "display_name": "Python 3",
   "language": "python",
   "name": "python3"
  },
  "language_info": {
   "codemirror_mode": {
    "name": "ipython",
    "version": 3
   },
   "file_extension": ".py",
   "mimetype": "text/x-python",
   "name": "python",
   "nbconvert_exporter": "python",
   "pygments_lexer": "ipython3",
   "version": "3.10.9"
  },
  "orig_nbformat": 4,
  "vscode": {
   "interpreter": {
    "hash": "aee8b7b246df8f9039afb4144a1f6fd8d2ca17a180786b69acc140d282b71a49"
   }
  }
 },
 "nbformat": 4,
 "nbformat_minor": 2
}
