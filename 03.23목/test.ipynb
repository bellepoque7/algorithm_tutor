{
 "cells": [
  {
   "cell_type": "code",
   "execution_count": 2,
   "metadata": {},
   "outputs": [
    {
     "name": "stdout",
     "output_type": "stream",
     "text": [
      "키를 크롭하는 경우의 수 M=20 2870\n",
      "키를 4번돌리는 경우의수 11480\n"
     ]
    }
   ],
   "source": [
    "# key를 크롭해보자\n",
    "# 최악의 경우  M은 20, 크롭하는 경우는 1부터 20까지의 제곱의합\n",
    "# 2870*4\n",
    "my_sum = 0\n",
    "for i in range(1,21):\n",
    "    my_sum += i**2\n",
    "print('키를 크롭하는 경우의 수 M=20',my_sum)\n",
    "print('키를 4번돌리는 경우의 수',my_sum*4)"
   ]
  },
  {
   "cell_type": "code",
   "execution_count": null,
   "metadata": {},
   "outputs": [],
   "source": []
  }
 ],
 "metadata": {
  "kernelspec": {
   "display_name": "Python 3",
   "language": "python",
   "name": "python3"
  },
  "language_info": {
   "codemirror_mode": {
    "name": "ipython",
    "version": 3
   },
   "file_extension": ".py",
   "mimetype": "text/x-python",
   "name": "python",
   "nbconvert_exporter": "python",
   "pygments_lexer": "ipython3",
   "version": "3.10.9"
  },
  "orig_nbformat": 4,
  "vscode": {
   "interpreter": {
    "hash": "aee8b7b246df8f9039afb4144a1f6fd8d2ca17a180786b69acc140d282b71a49"
   }
  }
 },
 "nbformat": 4,
 "nbformat_minor": 2
}
