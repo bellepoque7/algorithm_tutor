{
 "cells": [
  {
   "cell_type": "code",
   "execution_count": 1,
   "metadata": {},
   "outputs": [],
   "source": [
    "relation = [[\"100\",\"ryan\",\"music\",\"2\"],[\"200\",\"apeach\",\"math\",\"2\"],[\"300\",\"tube\",\"computer\",\"3\"],[\"400\",\"con\",\"computer\",\"4\"],[\"500\",\"muzi\",\"music\",\"3\"],[\"600\",\"apeach\",\"music\",\"2\"]]"
   ]
  },
  {
   "cell_type": "code",
   "execution_count": 14,
   "metadata": {},
   "outputs": [
    {
     "name": "stdout",
     "output_type": "stream",
     "text": [
      "(0,) (1,) (0,) (2,) (0,) (3,) (0,) (0, 1) (0,) (0, 2) (0,) (0, 3) (0,) (1, 2) (0,) (1, 3) (0,) (1, 2) (2, 3) (0,) (1, 2) (0, 1, 2) (0,) (1, 2) (0, 1, 3) (0,) (1, 2) (0, 2, 3) (0,) (1, 2) (1, 2, 3) (0,) (1, 2) (0, 1, 2, 3) (0,) (1, 2) "
     ]
    },
    {
     "data": {
      "text/plain": [
       "2"
      ]
     },
     "execution_count": 14,
     "metadata": {},
     "output_type": "execute_result"
    }
   ],
   "source": [
    "#정답\n",
    "from itertools import combinations\n",
    "\n",
    "def solution(relation):\n",
    "    \n",
    "    a = len(relation[0]) # 열의길이 4\n",
    "    res = []\n",
    "    li = combi(a) #칼럼번호들의 조합  \n",
    "\n",
    "    for comb in li:\n",
    "        # print(comb, end=' ')\n",
    "        # (0,) (1,) (2,) (3,) (0, 1) (0, 2) (0, 3) (1, 2) (1, 3) (2, 3) (0, 1, 2) (0, 1, 3) (0, 2, 3) (1, 2, 3) (0, 1, 2, 3)\n",
    "        flag = True  #최소성 검증\n",
    "        for i in res:\n",
    "            # print(i,end = ' ')\n",
    "            '''\n",
    "            (0,) (1,) (0,) (2,) (0,) (3,) (0,) (0, 1) (0,) (0, 2) (0,) (0, 3) (0,) (1, 2) (0,) (1, 3) (0,) (1, 2) (2, 3) \n",
    "            (0,) (1, 2) (0, 1, 2) (0,) (1, 2) (0, 1, 3) (0,) (1, 2) (0, 2, 3) (0,) (1, 2) (1, 2, 3) (0,) (1, 2) (0, 1, 2, 3) (0,) (1, 2) \n",
    "            '''\n",
    "            if len(comb) == 1:   #1개 짜리 key는 최소성 검증 불필요\n",
    "                continue\n",
    "            # print(i) #(0,)(0,)(0,)(0,)(0,)(1, 2)(0,)(1, 2)(0,)(1, 2)(0,)(1, 2)(0,)(1, 2)(0,)(1, 2)(0,)(1, 2)\n",
    "            # [0], [0,1], [1,3] -> [1,2,3]\n",
    "            if i in list(combinations(comb,len(i))):\n",
    "                flag = False\n",
    "        \n",
    "        # 최소성 검정을 통과했고, check(유일성 검정을) 통과했으면.\n",
    "        if flag and check(comb,relation):\n",
    "                res.append(comb)\n",
    "    # print(res)\n",
    "    answer = len(res)\n",
    "    return answer\n",
    "\n",
    "solution(relation)\n"
   ]
  },
  {
   "cell_type": "code",
   "execution_count": null,
   "metadata": {},
   "outputs": [],
   "source": [
    "\n",
    "# 조합만들기\n",
    "def combi(a):\n",
    "    comb = []\n",
    "    for i in range(1,a+1):    #처음 오답 포인트 : range(a)로 하면 0개를 고르는게 생김, 최소 1개를 골라야함.\n",
    "        comb += list(combinations(range(a),i))\n",
    "    return comb    \n",
    "\n",
    "#유일성 검증\n",
    "def check(comb,relation):\n",
    "    li = []  \n",
    "    for i in relation:\n",
    "        temp = []\n",
    "        for j in comb:\n",
    "            temp.append(i[j])\n",
    "        li.append(temp)\n",
    "    [[1,2,3],[1,2,3],[4,5,6]]\n",
    "    li_s = []\n",
    "    for i in li :\n",
    "        if i not in li_s:\n",
    "            li_s.append(i)\n",
    "    [[1,2,3]]\n",
    "    return len(li_s) == len(li)\n",
    "\n",
    "solution(relation)"
   ]
  },
  {
   "cell_type": "code",
   "execution_count": 7,
   "metadata": {},
   "outputs": [
    {
     "ename": "TypeError",
     "evalue": "'set' object is not subscriptable",
     "output_type": "error",
     "traceback": [
      "\u001b[0;31m---------------------------------------------------------------------------\u001b[0m",
      "\u001b[0;31mTypeError\u001b[0m                                 Traceback (most recent call last)",
      "Cell \u001b[0;32mIn[7], line 2\u001b[0m\n\u001b[1;32m      1\u001b[0m my_set \u001b[39m=\u001b[39m \u001b[39mset\u001b[39m([\u001b[39m1\u001b[39m,\u001b[39m2\u001b[39m,\u001b[39m3\u001b[39m])\n\u001b[0;32m----> 2\u001b[0m my_set[\u001b[39m1\u001b[39;49m]\n",
      "\u001b[0;31mTypeError\u001b[0m: 'set' object is not subscriptable"
     ]
    }
   ],
   "source": [
    "my_set = set([1,2,3])\n",
    "my_set[1]"
   ]
  },
  {
   "cell_type": "code",
   "execution_count": 10,
   "metadata": {},
   "outputs": [
    {
     "ename": "TypeError",
     "evalue": "unhashable type: 'list'",
     "output_type": "error",
     "traceback": [
      "\u001b[0;31m---------------------------------------------------------------------------\u001b[0m",
      "\u001b[0;31mTypeError\u001b[0m                                 Traceback (most recent call last)",
      "Cell \u001b[0;32mIn[10], line 3\u001b[0m\n\u001b[1;32m      1\u001b[0m \u001b[39m# from collections import frozenset\u001b[39;00m\n\u001b[1;32m      2\u001b[0m my_list \u001b[39m=\u001b[39m [[\u001b[39m1\u001b[39m,\u001b[39m2\u001b[39m,\u001b[39m3\u001b[39m],[\u001b[39m4\u001b[39m,\u001b[39m5\u001b[39m,\u001b[39m6\u001b[39m]]\n\u001b[0;32m----> 3\u001b[0m my_set \u001b[39m=\u001b[39m \u001b[39mfrozenset\u001b[39;49m(my_list)\n",
      "\u001b[0;31mTypeError\u001b[0m: unhashable type: 'list'"
     ]
    }
   ],
   "source": [
    "# from collections import frozenset\n",
    "my_list = [[1,2,3],[4,5,6]]\n",
    "my_set = frozenset(my_list)"
   ]
  },
  {
   "cell_type": "code",
   "execution_count": 6,
   "metadata": {},
   "outputs": [
    {
     "ename": "TypeError",
     "evalue": "unhashable type: 'set'",
     "output_type": "error",
     "traceback": [
      "\u001b[0;31m---------------------------------------------------------------------------\u001b[0m",
      "\u001b[0;31mTypeError\u001b[0m                                 Traceback (most recent call last)",
      "Cell \u001b[0;32mIn[6], line 1\u001b[0m\n\u001b[0;32m----> 1\u001b[0m {{\u001b[39m1\u001b[39m,\u001b[39m2\u001b[39m,\u001b[39m3\u001b[39m},{\u001b[39m4\u001b[39m,\u001b[39m5\u001b[39m,\u001b[39m6\u001b[39m}}\n",
      "\u001b[0;31mTypeError\u001b[0m: unhashable type: 'set'"
     ]
    }
   ],
   "source": [
    "{{1,2,3},{4,5,6}}"
   ]
  },
  {
   "cell_type": "code",
   "execution_count": null,
   "metadata": {},
   "outputs": [],
   "source": []
  }
 ],
 "metadata": {
  "kernelspec": {
   "display_name": "Python 3",
   "language": "python",
   "name": "python3"
  },
  "language_info": {
   "codemirror_mode": {
    "name": "ipython",
    "version": 3
   },
   "file_extension": ".py",
   "mimetype": "text/x-python",
   "name": "python",
   "nbconvert_exporter": "python",
   "pygments_lexer": "ipython3",
   "version": "3.10.9"
  },
  "orig_nbformat": 4,
  "vscode": {
   "interpreter": {
    "hash": "aee8b7b246df8f9039afb4144a1f6fd8d2ca17a180786b69acc140d282b71a49"
   }
  }
 },
 "nbformat": 4,
 "nbformat_minor": 2
}
