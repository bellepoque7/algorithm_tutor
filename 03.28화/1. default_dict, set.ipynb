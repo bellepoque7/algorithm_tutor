{
 "cells": [
  {
   "cell_type": "code",
   "execution_count": 8,
   "metadata": {},
   "outputs": [
    {
     "name": "stdout",
     "output_type": "stream",
     "text": [
      "{'a': 1, 'b': 2, 'c': 1}\n"
     ]
    }
   ],
   "source": [
    "def countLetters(word):\n",
    "    counter = {}\n",
    "    for letter in word:\n",
    "        if letter not in counter:\n",
    "            counter[letter] = 0\n",
    "        counter[letter] += 1\n",
    "    print(counter)\n",
    "countLetters('abbc')"
   ]
  },
  {
   "cell_type": "code",
   "execution_count": 9,
   "metadata": {},
   "outputs": [
    {
     "name": "stdout",
     "output_type": "stream",
     "text": [
      "{'a': 1, 'b': 2, 'c': 1}\n"
     ]
    }
   ],
   "source": [
    "def countLetters(word):\n",
    "    counter = {}\n",
    "    for letter in word:\n",
    "        counter.setdefault(letter, 0)\n",
    "        counter[letter] += 1\n",
    "    print(counter)\n",
    "countLetters('abbc')"
   ]
  },
  {
   "cell_type": "code",
   "execution_count": 10,
   "metadata": {},
   "outputs": [
    {
     "name": "stdout",
     "output_type": "stream",
     "text": [
      "defaultdict(<class 'int'>, {'a': 1, 'b': 2, 'c': 1})\n"
     ]
    }
   ],
   "source": [
    "from collections import defaultdict\n",
    "\n",
    "def countLetters(word):\n",
    "    #기본적으로 value가 저장될 데이터타입을 지정(int)\n",
    "    counter = defaultdict(int)\n",
    "    for letter in word:\n",
    "        counter[letter] += 1\n",
    "    print(counter)\n",
    "countLetters('abbc')"
   ]
  },
  {
   "cell_type": "code",
   "execution_count": 11,
   "metadata": {},
   "outputs": [
    {
     "data": {
      "text/plain": [
       "defaultdict(int, {})"
      ]
     },
     "execution_count": 11,
     "metadata": {},
     "output_type": "execute_result"
    }
   ],
   "source": [
    "defaultdict(int)"
   ]
  },
  {
   "cell_type": "code",
   "execution_count": null,
   "metadata": {},
   "outputs": [],
   "source": []
  }
 ],
 "metadata": {
  "kernelspec": {
   "display_name": "Python 3",
   "language": "python",
   "name": "python3"
  },
  "language_info": {
   "codemirror_mode": {
    "name": "ipython",
    "version": 3
   },
   "file_extension": ".py",
   "mimetype": "text/x-python",
   "name": "python",
   "nbconvert_exporter": "python",
   "pygments_lexer": "ipython3",
   "version": "3.10.9"
  },
  "orig_nbformat": 4,
  "vscode": {
   "interpreter": {
    "hash": "aee8b7b246df8f9039afb4144a1f6fd8d2ca17a180786b69acc140d282b71a49"
   }
  }
 },
 "nbformat": 4,
 "nbformat_minor": 2
}
